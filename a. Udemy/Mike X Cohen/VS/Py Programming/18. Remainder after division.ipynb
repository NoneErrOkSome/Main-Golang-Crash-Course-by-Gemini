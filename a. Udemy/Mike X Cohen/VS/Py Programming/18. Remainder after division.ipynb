{
 "cells": [
  {
   "cell_type": "code",
   "execution_count": 1,
   "id": "e535171f",
   "metadata": {},
   "outputs": [],
   "source": [
    "from IPython.display import display, Math"
   ]
  },
  {
   "cell_type": "code",
   "execution_count": 10,
   "id": "aa96aa19",
   "metadata": {},
   "outputs": [
    {
     "data": {
      "text/plain": [
       "135966.0346993718"
      ]
     },
     "execution_count": 10,
     "metadata": {},
     "output_type": "execute_result"
    }
   ],
   "source": [
    "a = 454534454\n",
    "b = 3343\n",
    "\n",
    "a / b"
   ]
  },
  {
   "cell_type": "code",
   "execution_count": 6,
   "id": "c716abbb",
   "metadata": {},
   "outputs": [
    {
     "data": {
      "text/plain": [
       "3"
      ]
     },
     "execution_count": 6,
     "metadata": {},
     "output_type": "execute_result"
    }
   ],
   "source": [
    "int (a/b)"
   ]
  },
  {
   "cell_type": "code",
   "execution_count": 7,
   "id": "1ce8b75b",
   "metadata": {},
   "outputs": [
    {
     "data": {
      "text/plain": [
       "1"
      ]
     },
     "execution_count": 7,
     "metadata": {},
     "output_type": "execute_result"
    }
   ],
   "source": [
    "a % b"
   ]
  },
  {
   "cell_type": "code",
   "execution_count": 11,
   "id": "7d3caad1",
   "metadata": {},
   "outputs": [
    {
     "name": "stdout",
     "output_type": "stream",
     "text": [
      "3343 goes into 4.54534e+08, 135966 times with a remainder of 116\n"
     ]
    }
   ],
   "source": [
    "divis = int(a/b)\n",
    "remainder = a % b\n",
    "print(\"%g goes into %g, %g times with a remainder of %g\" %(b,a,divis, remainder))\n"
   ]
  },
  {
   "cell_type": "code",
   "execution_count": null,
   "id": "052cda4e",
   "metadata": {},
   "outputs": [
    {
     "name": "stdout",
     "output_type": "stream",
     "text": [
      "11 is an odd number\n"
     ]
    }
   ],
   "source": [
    "num = 11\n",
    "\n",
    "if num % 2 == 0:\n",
    "    print(\"%g is an even number\" %(num))\n",
    "else:\n",
    "    print(\"%g is an odd number\" %(num))"
   ]
  },
  {
   "cell_type": "code",
   "execution_count": 33,
   "id": "c615068c",
   "metadata": {},
   "outputs": [
    {
     "name": "stdout",
     "output_type": "stream",
     "text": [
      "-5 is an odd  number\n",
      "-4 is an even number\n",
      "-3 is an odd  number\n",
      "-2 is an even number\n",
      "-1 is an odd  number\n",
      " 0 is an even number\n",
      " 1 is an odd  number\n",
      " 2 is an even number\n",
      " 3 is an odd  number\n",
      " 4 is an even number\n",
      " 5 is an odd  number\n"
     ]
    }
   ],
   "source": [
    "nums = range(-5, 6)\n",
    "\n",
    "for i in nums:\n",
    "    firstchar = ' '\n",
    "    if i<0:\n",
    "        firstchar = ''\n",
    "    if i % 2 == 0:\n",
    "        print(\"%s%g is an even number\" %(firstchar, i))\n",
    "    else:\n",
    "        print(\"%s%g is an odd  number\" %(firstchar, i))\n",
    "\n",
    "\n"
   ]
  },
  {
   "cell_type": "code",
   "execution_count": null,
   "id": "f8ddf02d",
   "metadata": {},
   "outputs": [],
   "source": []
  }
 ],
 "metadata": {
  "kernelspec": {
   "display_name": "Python 3",
   "language": "python",
   "name": "python3"
  },
  "language_info": {
   "codemirror_mode": {
    "name": "ipython",
    "version": 3
   },
   "file_extension": ".py",
   "mimetype": "text/x-python",
   "name": "python",
   "nbconvert_exporter": "python",
   "pygments_lexer": "ipython3",
   "version": "3.13.2"
  }
 },
 "nbformat": 4,
 "nbformat_minor": 5
}
