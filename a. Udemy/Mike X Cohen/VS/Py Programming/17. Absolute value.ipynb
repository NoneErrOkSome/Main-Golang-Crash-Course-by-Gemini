{
 "cells": [
  {
   "cell_type": "code",
   "execution_count": 5,
   "id": "35430d8b",
   "metadata": {},
   "outputs": [
    {
     "data": {
      "text/plain": [
       "(-4, 4)"
      ]
     },
     "execution_count": 5,
     "metadata": {},
     "output_type": "execute_result"
    }
   ],
   "source": [
    "a = -4\n",
    "b = abs(a)\n",
    "\n",
    "a, b\n"
   ]
  },
  {
   "cell_type": "code",
   "execution_count": 6,
   "id": "c0a42e8c",
   "metadata": {},
   "outputs": [],
   "source": [
    "from IPython.display import display, Math"
   ]
  },
  {
   "cell_type": "code",
   "execution_count": 8,
   "id": "3b98a6a5",
   "metadata": {},
   "outputs": [
    {
     "data": {
      "text/latex": [
       "$\\displaystyle |-7| = 7$"
      ],
      "text/plain": [
       "<IPython.core.display.Math object>"
      ]
     },
     "metadata": {},
     "output_type": "display_data"
    }
   ],
   "source": [
    "x = -7\n",
    "\n",
    "display(Math('|%g| = %g' %(x, abs(x))))"
   ]
  },
  {
   "cell_type": "code",
   "execution_count": 16,
   "id": "3a66b9c1",
   "metadata": {},
   "outputs": [
    {
     "name": "stdout",
     "output_type": "stream",
     "text": [
      "-4 was not tested. \n",
      "6\n",
      "-1 was not tested. \n",
      "43\n",
      "18\n",
      "2 was not tested. \n",
      "0 was not tested. \n"
     ]
    }
   ],
   "source": [
    "a_list = [-4, 6, -1, 43, -18, 2, 0]\n",
    "\n",
    "for list in a_list:\n",
    "    if list < -5 or list > 2:\n",
    "        print(abs(list))\n",
    "    else:\n",
    "        print(str(list) + \" was not tested. \")"
   ]
  },
  {
   "cell_type": "code",
   "execution_count": 15,
   "id": "8f128b7b",
   "metadata": {},
   "outputs": [
    {
     "data": {
      "text/latex": [
       "$\\displaystyle 6$"
      ],
      "text/plain": [
       "<IPython.core.display.Math object>"
      ]
     },
     "metadata": {},
     "output_type": "display_data"
    },
    {
     "data": {
      "text/latex": [
       "$\\displaystyle 43$"
      ],
      "text/plain": [
       "<IPython.core.display.Math object>"
      ]
     },
     "metadata": {},
     "output_type": "display_data"
    },
    {
     "data": {
      "text/latex": [
       "$\\displaystyle 18$"
      ],
      "text/plain": [
       "<IPython.core.display.Math object>"
      ]
     },
     "metadata": {},
     "output_type": "display_data"
    }
   ],
   "source": [
    "a_list = [-4, 6, -1, 43, -18, 2, 0]\n",
    "\n",
    "for list in a_list:\n",
    "    if list < -5 or list > 2:\n",
    "        display(Math(\"%g\" %(abs(list))))"
   ]
  },
  {
   "cell_type": "code",
   "execution_count": null,
   "id": "97d886e8",
   "metadata": {},
   "outputs": [],
   "source": [
    "|"
   ]
  }
 ],
 "metadata": {
  "kernelspec": {
   "display_name": "Python 3",
   "language": "python",
   "name": "python3"
  },
  "language_info": {
   "codemirror_mode": {
    "name": "ipython",
    "version": 3
   },
   "file_extension": ".py",
   "mimetype": "text/x-python",
   "name": "python",
   "nbconvert_exporter": "python",
   "pygments_lexer": "ipython3",
   "version": "3.13.2"
  }
 },
 "nbformat": 4,
 "nbformat_minor": 5
}
